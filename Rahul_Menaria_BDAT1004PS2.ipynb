{
  "nbformat": 4,
  "nbformat_minor": 0,
  "metadata": {
    "colab": {
      "provenance": []
    },
    "kernelspec": {
      "name": "python3",
      "display_name": "Python 3"
    },
    "language_info": {
      "name": "python"
    }
  },
  "cells": [
    {
      "cell_type": "markdown",
      "source": [
        "# **Problem Set 2**"
      ],
      "metadata": {
        "id": "4BFMTrtT-wPK"
      }
    },
    {
      "cell_type": "markdown",
      "source": [
        "# Question 1\n",
        "Consider the following Python module:  \n",
        "a=0  \n",
        "def b():  \n",
        "    global a  \n",
        "a = c(a)  \n",
        "def c(a):  \n",
        "    return a + 2  \n",
        "After importing the module into the interpreter, you execute:  \n",
        ">>> -- b()  \n",
        ">>> -- b()  \n",
        ">>> -- b()  \n",
        ">>> -- a    \n",
        "?  \n",
        "\n",
        "What value is displayed when the last expression (a) is evaluated? Explain your answer by indicating what happens in every executed statement.  "
      ],
      "metadata": {
        "id": "Hwb0YUDv_EQO"
      }
    },
    {
      "cell_type": "code",
      "source": [
        "\n",
        "a=0\n",
        "def b():\n",
        "    global a\n",
        "    a = c(a)\n",
        "def c(a):\n",
        "    return a + 2\n",
        "\n",
        "# executing the b() function as given in the question\n",
        "for i in range(3):\n",
        "  b()\n",
        "\n",
        "# printing the value of a\n",
        "print(\"value of a is \",a)"
      ],
      "metadata": {
        "colab": {
          "base_uri": "https://localhost:8080/"
        },
        "id": "Q-dbiuAr-65Q",
        "outputId": "42772ac3-d9be-4789-fbad-e642dde71e5b"
      },
      "execution_count": 1,
      "outputs": [
        {
          "output_type": "stream",
          "name": "stdout",
          "text": [
            "value of a is  6\n"
          ]
        }
      ]
    },
    {
      "cell_type": "markdown",
      "source": [
        "Explanation:  \n",
        "1. Executing b() for the first time :  \n",
        "   initially a is assigned with 0 value, when we execute the b() for the first time, it makes variable 'a' global varibale then it calls c(0) and assign the value returned by c(0) to 'a' which is 0+2. so value of 'a' becomes 2.\n",
        "\n",
        "2. Executing b() for the second time :  \n",
        "   when we execute the b() for the second time, it calls c(2) and assign the value returned by c(2) to 'a' which is 2+2. so value of 'a' becomes 4.\n",
        "   \n",
        "3. Executing b() for the third time :  \n",
        "   when we execute the b() for the third time, it calls c(4) and assign the value returned by c(4) to 'a' which is 4+2. so value of 'a' becomes 6.\n"
      ],
      "metadata": {
        "id": "GLCtJr3EGVib"
      }
    },
    {
      "cell_type": "markdown",
      "source": [
        "# Question 2\n",
        "\n",
        "Function fileLength(), given to you, takes the name of a file as input and returns  the length of the file:\n",
        "\n",
        ">>> fileLength('midterm.py')  \n",
        "284\n",
        "\n",
        ">>> fileLength('idterm.py')  \n",
        "Traceback (most recent call last):  \n",
        "  File \"<pyshell#34>\", line 1, in <module>  \n",
        "    fileLength('idterm.py')  \n",
        "  File \"/Users/me/midterm.py\", line 3, in fileLength  \n",
        "    infile = open(filename)  \n",
        "FileNotFoundError: [Errno 2] No such file or directory:  \n",
        "'idterm.py'  \n",
        "\n",
        " As shown above, if the file cannot be found by the interpreter or if it cannot be read as a text file, an exception will be raised. Modify function fileLength() so that a friendly message is printed instead:  \n",
        ">>> fileLength('midterm.py')  \n",
        "358  \n",
        ">>> fileLength('idterm.py')  \n",
        "File idterm.py not found.  \n"
      ],
      "metadata": {
        "id": "BQeN7SfvIjEs"
      }
    },
    {
      "cell_type": "code",
      "source": [
        "def fileLength(file_name):\n",
        "\n",
        "    # Using Try except\n",
        "    try:\n",
        "        file = open(file_name)\n",
        "        contents = file.read()\n",
        "        file.close()\n",
        "        length = len(contents)\n",
        "        return length\n",
        "\n",
        "    except FileNotFoundError:\n",
        "        return f\"File {file_name} not found.\"\n",
        "\n",
        "# Printing the length if file exists otherswise print exception that file not found:\n",
        "result = fileLength('Filelength.txt')\n",
        "print(result)\n",
        "\n",
        "result = fileLength('idterm.py')\n",
        "print(result)\n",
        "\n"
      ],
      "metadata": {
        "colab": {
          "base_uri": "https://localhost:8080/"
        },
        "id": "phbrgwdVFBs4",
        "outputId": "646627a2-2879-4456-e3a2-b69448eec34e"
      },
      "execution_count": 2,
      "outputs": [
        {
          "output_type": "stream",
          "name": "stdout",
          "text": [
            "123\n",
            "File idterm.py not found.\n"
          ]
        }
      ]
    },
    {
      "cell_type": "markdown",
      "source": [
        "# Question 3\n",
        "\n",
        "Write a class named Marsupial that can be used as shown below:  \n",
        ">>> m = Marsupial()  \n",
        ">>> m.put_in_pouch('doll')  \n",
        ">>> m.put_in_pouch('firetruck')  \n",
        ">>> m.put_in_pouch('kitten')  \n",
        ">>> m.pouch_contents()  \n",
        "['doll', 'firetruck', 'kitten']  \n",
        "\n",
        "Now write a class named Kangaroo as a subclass of Marsupial that inherits all the attributes of and also  \n",
        "a.extends the Marsupial __init__ constructor to take, as input, the coordinates x and y of the Kangaroo object,  \n",
        "b.supports method jump that takes number values dx and dy as input and moves the kangaroo by dx units along the x-axis and by dy units along the y- axis, and\n",
        "c.overloads the __str__ operator so it behaves as shown below.\n",
        "\n",
        "\n",
        ">>> k = Kangaroo(0,0)  \n",
        ">>> print(k)  \n",
        "I am a Kangaroo located at coordinates (0,0)  \n",
        ">>> k.put_in_pouch('doll')  \n",
        ">>> k.put_in_pouch('firetruck')  \n",
        ">>> k.put_in_pouch('kitten')  \n",
        ">>> k.pouch_contents()  \n",
        "['doll', 'firetruck', 'kitten']  \n",
        ">>> k.jump(1,0)  \n",
        ">>> k.jump(1,0)  \n",
        ">>> k.jump(1,0)  \n",
        ">>> print(k)  \n",
        "I am a Kangaroo located at coordinates (3,0)  "
      ],
      "metadata": {
        "id": "94bkHY-zLpj7"
      }
    },
    {
      "cell_type": "code",
      "source": [
        "# Creating a  class named  Marsupial\n",
        "class Marsupial:\n",
        "    def __init__(self):\n",
        "        self.pouch = []\n",
        "\n",
        "    def put_in_pouch(self, item):\n",
        "        self.pouch.append(item)\n",
        "\n",
        "    def pouch_contents(self):\n",
        "        return self.pouch\n",
        "\n",
        "# Creaitng a class called Kangaroo which inherits from Marsupial\n",
        "\n",
        "class Kangaroo(Marsupial):\n",
        "    def __init__(self, x, y):\n",
        "        super().__init__()\n",
        "        self.x = x         # Kangaroo's x-coordinate\n",
        "        self.y = y         # Kangaroo's y-coordinate\n",
        "\n",
        "    def jump(self, dx, dy):\n",
        "        # Moving Kangaroo's x coordinate by dx\n",
        "        self.x += dx\n",
        "        # Move Kangaroo's y coordinate by dy\n",
        "\n",
        "        self.y += dy\n",
        "    def __str__(self):\n",
        "        return f\"I am a Kangaroo located at coordinates ({self.x}, {self.y})\"\n",
        "\n",
        "\n",
        "# Creating a Marsupial as given\n",
        "m = Marsupial()\n",
        "m.put_in_pouch('doll')\n",
        "m.put_in_pouch('firetruck')\n",
        "m.put_in_pouch('kitten')\n",
        "print(f\"Marsupial's pouch : {m.pouch_contents()}\")\n",
        "\n",
        "# Creating a Kangaroo at given coordinates (0, 0), putting items in its pouch, jump, and printing its location\n",
        "\n",
        "k = Kangaroo(0, 0)\n",
        "\n",
        "#printing k\n",
        "print(k)\n",
        "\n",
        "k.put_in_pouch('doll')\n",
        "k.put_in_pouch('firetruck')\n",
        "k.put_in_pouch('kitten')\n",
        "\n",
        "print(f\"Kangaroo's pouch : {k.pouch_contents()}\")\n",
        "k.jump(1, 0)\n",
        "k.jump(1, 0)\n",
        "k.jump(1, 0)\n",
        "\n",
        "#printing k\n",
        "print(k)"
      ],
      "metadata": {
        "colab": {
          "base_uri": "https://localhost:8080/"
        },
        "id": "rNkj-3HGJxNc",
        "outputId": "1c61a359-e3d3-47af-edf5-9382c2aac0e9"
      },
      "execution_count": 3,
      "outputs": [
        {
          "output_type": "stream",
          "name": "stdout",
          "text": [
            "Marsupial's pouch : ['doll', 'firetruck', 'kitten']\n",
            "I am a Kangaroo located at coordinates (0, 0)\n",
            "Kangaroo's pouch : ['doll', 'firetruck', 'kitten']\n",
            "I am a Kangaroo located at coordinates (3, 0)\n"
          ]
        }
      ]
    },
    {
      "cell_type": "markdown",
      "source": [
        "# Question 4\n",
        "Write function collatz() that takes a positive integer x as input and prints the Collatz sequence starting at x. A Collatz sequence is obtained by repeatedly applying this rule to the previous number x in the sequence:  \n",
        "x={ 𝑥/2 𝑖𝑓𝑥𝑖𝑠𝑒𝑣𝑒𝑛   \n",
        "    3𝑥 + 1 𝑖𝑓 𝑥 𝑖𝑠 𝑜𝑑𝑑    \n",
        "\n",
        "Your function should stop when the sequence gets to number 1. Your implementation must be recursive, without any loops.  \n",
        ">>> collatz(1)  \n",
        "1  \n",
        ">>> collatz(10)  \n",
        "10  \n",
        "5  \n",
        " 16  \n",
        "  8  \n",
        "   4  \n",
        "    2  \n",
        "     1"
      ],
      "metadata": {
        "id": "lSgK1tbgOcyu"
      }
    },
    {
      "cell_type": "code",
      "source": [
        "# Defing collatz()\n",
        "def collatz(x):\n",
        "    print(x)\n",
        "\n",
        "    # Checking if 'x' is equal to 1 and if so, stop the recursion\n",
        "    if x == 1:\n",
        "        return\n",
        "\n",
        "    # Checking if 'x' is even  or odd\n",
        "    if x % 2 == 0:\n",
        "\n",
        "        collatz(x // 2)\n",
        "    else:\n",
        "\n",
        "        collatz(3 * x + 1)\n",
        "\n",
        "# Calling collatz with value 1\n",
        "collatz(1)\n",
        "\n",
        "print(\"**************\")\n",
        "# Calling collatz with value 10\n",
        "collatz(10)\n"
      ],
      "metadata": {
        "colab": {
          "base_uri": "https://localhost:8080/"
        },
        "id": "4QcEg-jBNvAh",
        "outputId": "d0d4c9f1-9b95-4a8b-b4c8-682de34b232b"
      },
      "execution_count": 4,
      "outputs": [
        {
          "output_type": "stream",
          "name": "stdout",
          "text": [
            "1\n",
            "**************\n",
            "10\n",
            "5\n",
            "16\n",
            "8\n",
            "4\n",
            "2\n",
            "1\n"
          ]
        }
      ]
    },
    {
      "cell_type": "markdown",
      "source": [
        "# Question 5\n",
        "\n",
        "Write a recursive method binary() that takes a non-negative integer n and prints the binary representation of integer n\n",
        "\n",
        ">>> binary(0)  \n",
        "0  \n",
        ">>> binary(1)  \n",
        "1  \n",
        ">>> binary(3)  \n",
        "11  \n",
        ">>> binary(9)  \n",
        "1001  "
      ],
      "metadata": {
        "id": "Pj8sWbAUQIn9"
      }
    },
    {
      "cell_type": "code",
      "source": [
        "# defining the funcation for binary representation\n",
        "\n",
        "def binary(n):\n",
        "    if n == 0:\n",
        "        return '0'\n",
        "    elif n == 1:\n",
        "        return '1'\n",
        "    else:\n",
        "        return binary(n // 2) + str(n % 2)\n",
        "\n",
        "print(binary(0))    #output is 0\n",
        "print(binary(1))    #output is 1\n",
        "print(binary(3))    #output is 11\n",
        "print(binary(9))    #output is 1001"
      ],
      "metadata": {
        "colab": {
          "base_uri": "https://localhost:8080/"
        },
        "id": "IwJElbZgPi8l",
        "outputId": "1af24dab-d5a6-4cb4-f270-0a3e92c69ef8"
      },
      "execution_count": 5,
      "outputs": [
        {
          "output_type": "stream",
          "name": "stdout",
          "text": [
            "0\n",
            "1\n",
            "11\n",
            "1001\n"
          ]
        }
      ]
    },
    {
      "cell_type": "markdown",
      "source": [
        "# Question 6\n",
        "\n",
        "Implement a class named HeadingParser that can be used to parse an HTML document, and retrieve and print all the headings in the document. You should implement your class as a subclass of HTMLParser, defined in Standard Library module html.parser. When fed a string containing HTML code, your class should print the headings, one per line and in the order in which they appear in the document. Each heading should be indented as follows: an h1 heading should have indentation 0, and h2 heading should have indentation 1, etc. Test your implementation using w3c.html.  \n",
        "  >>> infile = open('w3c.html')  \n",
        "  >>> content = infile.read()  \n",
        "  >>> infile.close()  \n",
        "  >>> hp = HeadingParser()  \n",
        "  >>> hp.feed(content)  \n",
        "W3C Mission  \n",
        "Principles"
      ],
      "metadata": {
        "id": "nazuhRuOSPTK"
      }
    },
    {
      "cell_type": "code",
      "source": [
        "#importing HTMLParser\n",
        "\n",
        "from html.parser import HTMLParser\n",
        "\n",
        "# Creating a class called HeadingParser\n",
        "\n",
        "class HeadingParser(HTMLParser):\n",
        "    def __init__(self):\n",
        "        HTMLParser.__init__(self)\n",
        "        self.header_stack = []\n",
        "\n",
        "    # searching the tag\n",
        "    def handle_starttag(self, tag, attrs):\n",
        "        if tag in ['h1', 'h2']:\n",
        "            self.header_stack.append(tag)\n",
        "\n",
        "    def handle_data(self, data):\n",
        "        if self.header_stack:\n",
        "            tag = self.header_stack[-1]\n",
        "            if tag == 'h1':\n",
        "                print(data)\n",
        "            elif tag == 'h2':\n",
        "                print(\" \" + data)\n",
        "\n",
        "    def handle_endtag(self, tag):\n",
        "        if tag in ['h1', 'h2']:\n",
        "            self.header_stack.pop()\n",
        "\n",
        "#opening the w3c.html file :\n",
        "with open('w3c.html') as infile:\n",
        "    content = infile.read()\n",
        "    hp = HeadingParser()\n",
        "    hp.feed(content)"
      ],
      "metadata": {
        "colab": {
          "base_uri": "https://localhost:8080/"
        },
        "id": "DO3a4lHwRa51",
        "outputId": "3f2fb47b-64a3-4491-be7c-2c2fde781a98"
      },
      "execution_count": 6,
      "outputs": [
        {
          "output_type": "stream",
          "name": "stdout",
          "text": [
            "W3C Mission\n",
            " Principles\n"
          ]
        }
      ]
    },
    {
      "cell_type": "markdown",
      "source": [
        "# Question 7\n",
        "Implement recursive function webdir()\n",
        "that takes as input: a URL (as a string) and\n",
        "non-negative integers depth and indent\n",
        ". Your function should visit every web\n",
        "page reachable from the starting URL web page in depth clicks or less, and print\n",
        "each web page's URL. As shown below, indentation, specified by indent, should\n",
        "be used to indicate the depth of a URL.\n",
        ">>>\n",
        "webdir('http://reed.cs.depaul.edu/lperkovic/csc242/test1.html'\n",
        ", 2, 0)  \n",
        "http://reed.cs.depaul.edu/lperkovic/csc242/test1.html  \n",
        "    http://reed.cs.depaul.edu/lperkovic/csc242/test2.html  \n",
        "        http://reed.cs.depaul.edu/lperkovic/csc242/test4.html  \n",
        "    http://reed.cs.depaul.edu/lperkovic/csc242/test3.html  \n",
        "        http://reed.cs.depaul.edu/lperkovic/csc242/test4.html\n",
        "\n"
      ],
      "metadata": {
        "id": "MUWbUK8KUkcP"
      }
    },
    {
      "cell_type": "code",
      "source": [
        "import urllib.request\n",
        "from html.parser import HTMLParser\n",
        "\n",
        "# # Defining a custom HTML parser class\n",
        "class MyParser(HTMLParser):\n",
        "    def __init__(self):\n",
        "        super().__init__()\n",
        "        self.urls = []\n",
        "\n",
        "    # Overriding the handle_starttag method to collect URLs ending with 'html'\n",
        "    def handle_starttag(self, tag, attrs):\n",
        "        if tag == 'a':\n",
        "            for attr in attrs:\n",
        "                if attr[0] == 'href' and attr[1].endswith('html'):\n",
        "                    self.urls.append(attr[1])\n",
        "\n",
        "# Defining the webdir function for recursive web page exploration\n",
        "def webdir(url, depth, indent):\n",
        "    # checking for the depth value\n",
        "    if depth < 0:\n",
        "        return\n",
        "\n",
        "    print(' ' * indent * 4 + url)\n",
        "\n",
        "    try:\n",
        "        request = urllib.request.urlopen(url)\n",
        "        html = request.read().decode(\"utf8\")\n",
        "\n",
        "        parser = MyParser()\n",
        "        parser.feed(html)\n",
        "\n",
        "        # Recursively exploring each URL found on the page\n",
        "        for new_url in parser.urls:\n",
        "            if new_url.startswith('http'):\n",
        "                webdir(new_url, depth - 1, indent + 1)\n",
        "            else:\n",
        "                full_url = urllib.parse.urljoin(url, new_url)\n",
        "                webdir(full_url, depth - 1, indent + 1)\n",
        "\n",
        "    # Handling specific errors\n",
        "\n",
        "    except urllib.error.HTTPError as e:\n",
        "        print(f\"Failed to access {url}: HTTP Error {e.code}\")\n",
        "    except urllib.error.URLError as e:\n",
        "        print(f\"Failed to access {url}: URL Error {e.reason}\")\n",
        "    except Exception as e:\n",
        "        print(f\"Failed to access {url}: {e}\")\n",
        "\n",
        "# Using the website given in the question\n",
        "webdir('http://reed.cs.depaul.edu/lperkovic/csc242/test1.html', 2, 0)\n"
      ],
      "metadata": {
        "colab": {
          "base_uri": "https://localhost:8080/"
        },
        "id": "jXkwNR77W8Ae",
        "outputId": "9f1ea722-bdc1-41f7-9ea9-2d0474e55202"
      },
      "execution_count": 7,
      "outputs": [
        {
          "output_type": "stream",
          "name": "stdout",
          "text": [
            "http://reed.cs.depaul.edu/lperkovic/csc242/test1.html\n",
            "Failed to access http://reed.cs.depaul.edu/lperkovic/csc242/test1.html: HTTP Error 404\n"
          ]
        }
      ]
    },
    {
      "cell_type": "markdown",
      "source": [
        "# Question 8\n",
        "Write SQL queries on the below database table that return:  \n",
        "a) All the temperature data.  \n",
        "b) All the cities, but without repetition.  \n",
        "c) All the records for India.  \n",
        "d) All the Fall records.  \n",
        "e) The city, country, and season for which the average      rainfall is between 200 and 400 millimeters.  \n",
        "f) The city and country for which the average Fall temperature is above 20 degrees, in increasing temperature order.  \n",
        "g) The total annual rainfall for Cairo.  \n",
        "h) The total rainfall for each season.  \n",
        "\n",
        "| City   | Country          | Season | Temperature (C) | Rainfall (mm) |\n",
        "|--------|------------------|--------|-----------------|---------------|\n",
        "| Mumbai | India            | Winter | 24.8            | 5.9           |\n",
        "| Mumbai | India            | Spring | 28.4            | 16.2          |\n",
        "| Mumbai | India            | Summer | 27.9            | 1549.4        |\n",
        "| Mumbai | India            | Fall   | 27.6            | 346.0         |\n",
        "| London | United Kingdom   | Winter | 4.2             | 207.7         |\n",
        "| London | United Kingdom   | Spring | 8.3             | 169.6         |\n",
        "| London | United Kingdom   | Summer | 15.7            | 157.0         |\n",
        "| London | United Kingdom   | Fall   | 10.4            | 218.5         |\n",
        "| Cairo  | Egypt            | Winter | 13.6            | 16.5          |\n",
        "| Cairo  | Egypt            | Spring | 20.7            | 6.5           |\n",
        "| Cairo  | Egypt            | Summer | 27.7            | 0.1           |\n",
        "| Cairo  | Egypt            | Fall   | 22.2            | 4.5           |\n"
      ],
      "metadata": {
        "id": "r3KJgeuEcuHl"
      }
    },
    {
      "cell_type": "code",
      "source": [
        "#importing the sqlite3\n",
        "import sqlite3\n",
        "\n",
        "# Creating a new SQLite database or connectting to an existing one\n",
        "conn = sqlite3.connect('weather_data1.db')\n",
        "\n",
        "# Creating a cursor object to interact with the database\n",
        "cursor = conn.cursor()\n",
        "\n",
        "# Creating a table\n",
        "cursor.execute('''\n",
        "    CREATE TABLE Weather (\n",
        "        City TEXT,\n",
        "        Country TEXT,\n",
        "        Season TEXT,\n",
        "        Temperature REAL,\n",
        "        Rainfall REAL\n",
        "    )\n",
        "''')\n",
        "\n",
        "\n",
        "# Inserting data\n",
        "data = [\n",
        "    ('Mumbai', 'India', 'Winter', 24.8, 5.9),\n",
        "    ('Mumbai', 'India', 'Spring', 28.4, 16.2),\n",
        "    ('Mumbai', 'India', 'Summer', 27.9, 1549.4),\n",
        "    ('Mumbai', 'India', 'Fall', 27.6, 346.0),\n",
        "    ('London', 'United Kingdom', 'Winter', 4.2, 207.7),\n",
        "    ('London', 'United Kingdom', 'Spring', 8.3, 169.6),\n",
        "    ('London', 'United Kingdom', 'Summer', 15.7, 157.0),\n",
        "    ('London', 'United Kingdom', 'Fall', 10.4, 218.5),\n",
        "    ('Cairo', 'Egypt', 'Winter', 13.6, 16.5),\n",
        "    ('Cairo', 'Egypt', 'Spring', 20.7, 6.5),\n",
        "    ('Cairo', 'Egypt', 'Summer', 27.7, 0.1),\n",
        "    ('Cairo', 'Egypt', 'Fall', 22.2, 4.5)\n",
        "]\n",
        "\n",
        "cursor.executemany('INSERT INTO Weather VALUES (?,?,?,?,?)', data)\n",
        "\n"
      ],
      "metadata": {
        "colab": {
          "base_uri": "https://localhost:8080/"
        },
        "id": "mfH5UmDiZUtZ",
        "outputId": "8f714b13-87ed-47aa-8880-1be03d84bd05"
      },
      "execution_count": 8,
      "outputs": [
        {
          "output_type": "execute_result",
          "data": {
            "text/plain": [
              "<sqlite3.Cursor at 0x7c8b0f6afb40>"
            ]
          },
          "metadata": {},
          "execution_count": 8
        }
      ]
    },
    {
      "cell_type": "code",
      "source": [
        "# now checking for the data\n",
        "data"
      ],
      "metadata": {
        "colab": {
          "base_uri": "https://localhost:8080/"
        },
        "id": "Ilc-87pgdr3-",
        "outputId": "240fb4eb-8612-47fb-8359-1e9779c7f693"
      },
      "execution_count": 9,
      "outputs": [
        {
          "output_type": "execute_result",
          "data": {
            "text/plain": [
              "[('Mumbai', 'India', 'Winter', 24.8, 5.9),\n",
              " ('Mumbai', 'India', 'Spring', 28.4, 16.2),\n",
              " ('Mumbai', 'India', 'Summer', 27.9, 1549.4),\n",
              " ('Mumbai', 'India', 'Fall', 27.6, 346.0),\n",
              " ('London', 'United Kingdom', 'Winter', 4.2, 207.7),\n",
              " ('London', 'United Kingdom', 'Spring', 8.3, 169.6),\n",
              " ('London', 'United Kingdom', 'Summer', 15.7, 157.0),\n",
              " ('London', 'United Kingdom', 'Fall', 10.4, 218.5),\n",
              " ('Cairo', 'Egypt', 'Winter', 13.6, 16.5),\n",
              " ('Cairo', 'Egypt', 'Spring', 20.7, 6.5),\n",
              " ('Cairo', 'Egypt', 'Summer', 27.7, 0.1),\n",
              " ('Cairo', 'Egypt', 'Fall', 22.2, 4.5)]"
            ]
          },
          "metadata": {},
          "execution_count": 9
        }
      ]
    },
    {
      "cell_type": "code",
      "source": [
        "# A. All the temperature data Query\n",
        "cursor.execute('SELECT Temperature FROM Weather')\n",
        "temp_data = cursor.fetchall()\n",
        "print(\"All Temperature Data in Celcius:\")\n",
        "for row in temp_data:\n",
        "    print(row[0])\n",
        "\n",
        "\n"
      ],
      "metadata": {
        "colab": {
          "base_uri": "https://localhost:8080/"
        },
        "id": "GQguxlYwdoRx",
        "outputId": "7410193e-24ed-474f-fd04-c559541fb4b0"
      },
      "execution_count": 10,
      "outputs": [
        {
          "output_type": "stream",
          "name": "stdout",
          "text": [
            "All Temperature Data in Celcius:\n",
            "24.8\n",
            "28.4\n",
            "27.9\n",
            "27.6\n",
            "4.2\n",
            "8.3\n",
            "15.7\n",
            "10.4\n",
            "13.6\n",
            "20.7\n",
            "27.7\n",
            "22.2\n"
          ]
        }
      ]
    },
    {
      "cell_type": "code",
      "source": [
        "# B.All the cities, but without repetition Query\n",
        "cursor.execute('SELECT DISTINCT City FROM Weather')\n",
        "city = cursor.fetchall()\n",
        "print(\"All the cities, but without repetition:\")\n",
        "for row in city:\n",
        "    print(row[0])"
      ],
      "metadata": {
        "colab": {
          "base_uri": "https://localhost:8080/"
        },
        "id": "l_ppAUuAd6B_",
        "outputId": "b45be309-1108-4557-a05e-010753da09b6"
      },
      "execution_count": 11,
      "outputs": [
        {
          "output_type": "stream",
          "name": "stdout",
          "text": [
            "All the cities, but without repetition:\n",
            "Mumbai\n",
            "London\n",
            "Cairo\n"
          ]
        }
      ]
    },
    {
      "cell_type": "code",
      "source": [
        "# C.All the records for India Query\n",
        "cursor.execute('SELECT * FROM Weather WHERE Country = \"India\"')\n",
        "ind_record = cursor.fetchall()\n",
        "print(\"All the records for India:\")\n",
        "for row in ind_record:\n",
        "    print(row)"
      ],
      "metadata": {
        "colab": {
          "base_uri": "https://localhost:8080/"
        },
        "id": "RPUQYEqWecL-",
        "outputId": "b1e907df-38aa-4504-a035-5ca4068ae4cb"
      },
      "execution_count": 12,
      "outputs": [
        {
          "output_type": "stream",
          "name": "stdout",
          "text": [
            "All the records for India:\n",
            "('Mumbai', 'India', 'Winter', 24.8, 5.9)\n",
            "('Mumbai', 'India', 'Spring', 28.4, 16.2)\n",
            "('Mumbai', 'India', 'Summer', 27.9, 1549.4)\n",
            "('Mumbai', 'India', 'Fall', 27.6, 346.0)\n"
          ]
        }
      ]
    },
    {
      "cell_type": "code",
      "source": [
        "# D.All the Fall records query\n",
        "cursor.execute('SELECT * FROM Weather WHERE Season = \"Fall\"')\n",
        "fall_records = cursor.fetchall()\n",
        "print(\"All the Fall records:\")\n",
        "for row in fall_records:\n",
        "    print(row)"
      ],
      "metadata": {
        "colab": {
          "base_uri": "https://localhost:8080/"
        },
        "id": "bhYPl5pAecWE",
        "outputId": "bca5fb4b-c865-44ab-ff05-0d1aacd6af93"
      },
      "execution_count": 13,
      "outputs": [
        {
          "output_type": "stream",
          "name": "stdout",
          "text": [
            "All the Fall records:\n",
            "('Mumbai', 'India', 'Fall', 27.6, 346.0)\n",
            "('London', 'United Kingdom', 'Fall', 10.4, 218.5)\n",
            "('Cairo', 'Egypt', 'Fall', 22.2, 4.5)\n"
          ]
        }
      ]
    },
    {
      "cell_type": "code",
      "source": [
        "# E. The city, country, and season for which the average rainfall is between 200 and 400 millimeters.Query\n",
        "cursor.execute('SELECT City, Country, Season FROM Weather GROUP BY City, Country, Season HAVING AVG(Rainfall) BETWEEN 200 AND 400')\n",
        "rainfall_info = cursor.fetchall()\n",
        "print(\"Cities with average rainfall between 200 and 400 millimeters:\")\n",
        "for row in rainfall_info:\n",
        "    print(row)\n"
      ],
      "metadata": {
        "colab": {
          "base_uri": "https://localhost:8080/"
        },
        "id": "UczGCjZ8ecZZ",
        "outputId": "31d46dc0-69bb-4157-f70f-dbf0476f955e"
      },
      "execution_count": 14,
      "outputs": [
        {
          "output_type": "stream",
          "name": "stdout",
          "text": [
            "Cities with average rainfall between 200 and 400 millimeters:\n",
            "('London', 'United Kingdom', 'Fall')\n",
            "('London', 'United Kingdom', 'Winter')\n",
            "('Mumbai', 'India', 'Fall')\n"
          ]
        }
      ]
    },
    {
      "cell_type": "code",
      "source": [
        "# F. The city and country for which the average Fall temperature is above 20 degrees, in increasing temperature order.Query\n",
        "cursor.execute('''\n",
        "    SELECT City, Country\n",
        "    FROM Weather\n",
        "    WHERE Season = 'Fall'\n",
        "    GROUP BY City, Country\n",
        "    HAVING AVG(Temperature) > 20\n",
        "    ORDER BY AVG(Temperature) ASC\n",
        "''')\n",
        "fall_info = cursor.fetchall()\n",
        "print(\"Cities and countries with average Fall temperature above 20 degrees (in increasing order):\")\n",
        "for row in fall_info:\n",
        "    print(row)"
      ],
      "metadata": {
        "colab": {
          "base_uri": "https://localhost:8080/"
        },
        "id": "E1FdCgJVeclq",
        "outputId": "c5fd1d6f-ef6c-42c1-f32f-175340be5f4b"
      },
      "execution_count": 15,
      "outputs": [
        {
          "output_type": "stream",
          "name": "stdout",
          "text": [
            "Cities and countries with average Fall temperature above 20 degrees (in increasing order):\n",
            "('Cairo', 'Egypt')\n",
            "('Mumbai', 'India')\n"
          ]
        }
      ]
    },
    {
      "cell_type": "code",
      "source": [
        "# G. The total annual rainfall for Cairo. Query\n",
        "cursor.execute('SELECT SUM(Rainfall) AS Total_Rainfall FROM Weather WHERE City = \"Cairo\"')\n",
        "cairo_rain = cursor.fetchone()\n",
        "print(\"Total annual rainfall for Cairo:\", cairo_rain[0])"
      ],
      "metadata": {
        "colab": {
          "base_uri": "https://localhost:8080/"
        },
        "id": "0-9Feqpyecsu",
        "outputId": "ff6744f2-9448-41fe-fe51-48374bde004f"
      },
      "execution_count": 16,
      "outputs": [
        {
          "output_type": "stream",
          "name": "stdout",
          "text": [
            "Total annual rainfall for Cairo: 27.6\n"
          ]
        }
      ]
    },
    {
      "cell_type": "code",
      "source": [
        "# H The total rainfall for each season.Query\n",
        "cursor.execute('SELECT Season, SUM(Rainfall) AS Total_Rainfall FROM Weather GROUP BY Season')\n",
        "seasonal_rainfall = cursor.fetchall()\n",
        "print(\"Total rainfall for each season:\")\n",
        "for season in seasonal_rainfall:\n",
        "    print(f\"{season[0]}: {season[1]}\")\n"
      ],
      "metadata": {
        "colab": {
          "base_uri": "https://localhost:8080/"
        },
        "id": "_rHijTBXe0zb",
        "outputId": "f1fb76d3-9eda-4b59-cefe-0e23eb48bbe0"
      },
      "execution_count": 17,
      "outputs": [
        {
          "output_type": "stream",
          "name": "stdout",
          "text": [
            "Total rainfall for each season:\n",
            "Fall: 569.0\n",
            "Spring: 192.29999999999998\n",
            "Summer: 1706.5\n",
            "Winter: 230.1\n"
          ]
        }
      ]
    },
    {
      "cell_type": "markdown",
      "source": [
        "# Question 9\n",
        ". Suppose list words is defined as follows:  \n",
        "\n",
        "    words  =  ['The',  'quick',  'brown',  'fox',  'jumps',  'over', 'the',  'lazy',  'dog']\n",
        "     \n",
        "Write list comprehension expressions that use list words and generate the following lists:  \n",
        "a) ['THE', 'QUICK', 'BROWN', 'FOX', 'JUMPS', 'OVER', 'THE', 'LAZY', 'DOG']  \n",
        "b) ['the', 'quick', 'brown', 'fox', 'jumps', 'over', 'the', 'lazy', 'dog']  \n",
        "c)[3, 5, 5, 3, 5, 4, 3, 4, 3](the list of lengths of words in list words).  \n",
        "d) [['THE', 'the', 3], ['QUICK', 'quick', 5], ['BROWN', 'brown', 5], ['FOX', 'fox', 3], ['JUMPS', 'jumps', 5], ['OVER', 'over', 4], ['THE', 'the', 3], ['LAZY', 'lazy', 4], ['DOG', 'dog', 3]] (the list containing a list for every word of list words, where each list contains the word in uppercase and lowercase and the length of the word.)  \n",
        "e) ['The', 'quick', 'brown', 'fox', 'jumps', 'over', 'the', 'lazy', 'dog'] (the list of words in list words containing 4 or more characters.)  "
      ],
      "metadata": {
        "id": "dOyFZo1tgQXw"
      }
    },
    {
      "cell_type": "code",
      "source": [
        "words  =  ['The',  'quick',  'brown',  'fox',  'jumps',  'over', 'the',  'lazy',  'dog']\n"
      ],
      "metadata": {
        "id": "U6PiLmVzg2Eg"
      },
      "execution_count": 18,
      "outputs": []
    },
    {
      "cell_type": "code",
      "source": [
        "# a)\n",
        "upper_words = [word.upper() for word in words]\n",
        "print(upper_words)"
      ],
      "metadata": {
        "colab": {
          "base_uri": "https://localhost:8080/"
        },
        "id": "etH5iDrNe1AN",
        "outputId": "c3339e3f-f1f7-4e38-d4e6-df7fcbbb0827"
      },
      "execution_count": 19,
      "outputs": [
        {
          "output_type": "stream",
          "name": "stdout",
          "text": [
            "['THE', 'QUICK', 'BROWN', 'FOX', 'JUMPS', 'OVER', 'THE', 'LAZY', 'DOG']\n"
          ]
        }
      ]
    },
    {
      "cell_type": "code",
      "source": [
        "# b)\n",
        "lower_words = [word.lower() for word in words]\n",
        "print(lower_words)"
      ],
      "metadata": {
        "colab": {
          "base_uri": "https://localhost:8080/"
        },
        "id": "AqbTuK3bg0Bu",
        "outputId": "a69f418f-9626-432e-cf7a-bae8a9d02854"
      },
      "execution_count": 20,
      "outputs": [
        {
          "output_type": "stream",
          "name": "stdout",
          "text": [
            "['the', 'quick', 'brown', 'fox', 'jumps', 'over', 'the', 'lazy', 'dog']\n"
          ]
        }
      ]
    },
    {
      "cell_type": "code",
      "source": [
        "# c)\n",
        "word_len = [len(word) for word in words]\n",
        "print(word_len)"
      ],
      "metadata": {
        "colab": {
          "base_uri": "https://localhost:8080/"
        },
        "id": "jcW6r5WUhCZK",
        "outputId": "bad6b62b-6645-4a01-f936-2c1db6ca976b"
      },
      "execution_count": 21,
      "outputs": [
        {
          "output_type": "stream",
          "name": "stdout",
          "text": [
            "[3, 5, 5, 3, 5, 4, 3, 4, 3]\n"
          ]
        }
      ]
    },
    {
      "cell_type": "code",
      "source": [
        "# d)\n",
        "word_info = [[word.upper(), word.lower(), len(word)] for word in words]\n",
        "print(word_info)"
      ],
      "metadata": {
        "colab": {
          "base_uri": "https://localhost:8080/"
        },
        "id": "jjdizUR5hHgp",
        "outputId": "2f4e647d-be20-4f74-bb34-07e09f00d21a"
      },
      "execution_count": 22,
      "outputs": [
        {
          "output_type": "stream",
          "name": "stdout",
          "text": [
            "[['THE', 'the', 3], ['QUICK', 'quick', 5], ['BROWN', 'brown', 5], ['FOX', 'fox', 3], ['JUMPS', 'jumps', 5], ['OVER', 'over', 4], ['THE', 'the', 3], ['LAZY', 'lazy', 4], ['DOG', 'dog', 3]]\n"
          ]
        }
      ]
    },
    {
      "cell_type": "code",
      "source": [
        "# e)\n",
        "words_with_4_or_more = [word for word in words if len(word) >= 4]\n",
        "print(words_with_4_or_more)"
      ],
      "metadata": {
        "colab": {
          "base_uri": "https://localhost:8080/"
        },
        "id": "AH1lRnYkhOnL",
        "outputId": "ae33b2ed-6068-4084-ff78-80165dff3a11"
      },
      "execution_count": 23,
      "outputs": [
        {
          "output_type": "stream",
          "name": "stdout",
          "text": [
            "['quick', 'brown', 'jumps', 'over', 'lazy']\n"
          ]
        }
      ]
    },
    {
      "cell_type": "code",
      "source": [],
      "metadata": {
        "id": "cwBn50qAhW9w"
      },
      "execution_count": 23,
      "outputs": []
    }
  ]
}